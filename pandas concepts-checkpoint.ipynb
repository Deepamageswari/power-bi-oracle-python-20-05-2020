{
 "cells": [
  {
   "cell_type": "code",
   "execution_count": 2,
   "metadata": {},
   "outputs": [],
   "source": [
    "import pandas as pd\n",
    "import numpy as np"
   ]
  },
  {
   "cell_type": "code",
   "execution_count": 3,
   "metadata": {},
   "outputs": [],
   "source": [
    "data=pd.read_csv(r'C:\\Users\\ELCOT\\OneDrive\\Desktop\\fleet analytics\\fleetusage.csv')"
   ]
  },
  {
   "cell_type": "code",
   "execution_count": 54,
   "metadata": {},
   "outputs": [
    {
     "name": "stdout",
     "output_type": "stream",
     "text": [
      "     ExtractDate                                    OrganisationURI  \\\n",
      "0     13/07/2016  http://opendatacommunities.org/id/metropolitan...   \n",
      "1     13/07/2016  http://opendatacommunities.org/id/metropolitan...   \n",
      "2     13/07/2016  http://opendatacommunities.org/id/metropolitan...   \n",
      "3     13/07/2016  http://opendatacommunities.org/id/metropolitan...   \n",
      "4     13/07/2016  http://opendatacommunities.org/id/metropolitan...   \n",
      "...          ...                                                ...   \n",
      "1160  13/07/2016  http://opendatacommunities.org/id/metropolitan...   \n",
      "1161  13/07/2016  http://opendatacommunities.org/id/metropolitan...   \n",
      "1162  13/07/2016  http://opendatacommunities.org/id/metropolitan...   \n",
      "1163  13/07/2016  http://opendatacommunities.org/id/metropolitan...   \n",
      "1164  13/07/2016  http://opendatacommunities.org/id/metropolitan...   \n",
      "\n",
      "     OrganisationLabel                     ServiceTypeURI  ServiceTypeLabel  \\\n",
      "0                Leeds  http://id.esd.org.uk/subject/7539  Fleet Management   \n",
      "1                Leeds  http://id.esd.org.uk/subject/7539  Fleet Management   \n",
      "2                Leeds  http://id.esd.org.uk/subject/7539  Fleet Management   \n",
      "3                Leeds  http://id.esd.org.uk/subject/7539  Fleet Management   \n",
      "4                Leeds  http://id.esd.org.uk/subject/7539  Fleet Management   \n",
      "...                ...                                ...               ...   \n",
      "1160             Leeds  http://id.esd.org.uk/subject/7539  Fleet Management   \n",
      "1161             Leeds  http://id.esd.org.uk/subject/7539  Fleet Management   \n",
      "1162             Leeds  http://id.esd.org.uk/subject/7539  Fleet Management   \n",
      "1163             Leeds  http://id.esd.org.uk/subject/7539  Fleet Management   \n",
      "1164             Leeds  http://id.esd.org.uk/subject/7539  Fleet Management   \n",
      "\n",
      "      Fleet number Vehicle Type      Make               Model  \\\n",
      "0                1    Limousine    Jaguar  XJL Portfolio V6 D   \n",
      "1                2          Car    Toyota        Toyota Prius   \n",
      "2                3    Limousine       NaN     Plate Retention   \n",
      "3               11          Car      Ford          Focus Edge   \n",
      "4               12          Car  Vauxhall         CORSA  CDTI   \n",
      "...            ...          ...       ...                 ...   \n",
      "1160         98071    Quad Bike    Yamaha          350cc Quad   \n",
      "1161         98072    Quad Bike    Yamaha          350cc Quad   \n",
      "1162         98073    Quad Bike    Yamaha          350cc Quad   \n",
      "1163         98074    Quad Bike    Yamaha          350cc Quad   \n",
      "1164         98076    Quad Bike    Yamaha          350cc Quad   \n",
      "\n",
      "     Date of 1st Registration Estimated Disposal  \\\n",
      "0                    9/3/2012           8/3/2020   \n",
      "1                  27/11/2007         26/11/2015   \n",
      "2                   11/4/2013           8/4/2017   \n",
      "3                  24/01/2014         23/01/2017   \n",
      "4                  13/11/2015         12/11/2023   \n",
      "...                       ...                ...   \n",
      "1160                 7/2/2012           7/2/2020   \n",
      "1161                 7/2/2012           7/2/2020   \n",
      "1162                 7/2/2012           7/2/2020   \n",
      "1163               22/03/2012         22/03/2020   \n",
      "1164               24/03/2014         24/03/2023   \n",
      "\n",
      "                                        Description                  Dept  \\\n",
      "0            Jaguar XJ Longwheel base Portfolio Car            Lord Mayor   \n",
      "1                               Toyota Prius Hybrid            Lord Mayor   \n",
      "2         Private Plate on retention til 08/04/2017            Lord Mayor   \n",
      "3                            Ford Focus Edge 5 Door           Leeds Watch   \n",
      "4     Vauxhall Corsa 1.3 CDTI 5 Door ECOFLEX Design  Assisted Living Leed   \n",
      "...                                             ...                   ...   \n",
      "1160                         Yamaha 350cc Quad Bike     Highways Seacroft   \n",
      "1161                         Yamaha 350cc Quad Bike      Highways Pottery   \n",
      "1162                         Yamaha 350cc Quad Bike      Highways Henshaw   \n",
      "1163    Yamaha 350cc Quad Bike STOLEN not Recovered      Highways Pottery   \n",
      "1164                         Yamaha 350cc Quad Bike      Highways Henshaw   \n",
      "\n",
      "                     Depot Fuel Used  Total Distance Unit of Dist Cameras  \\\n",
      "0               Lord Mayor    Diesel           10116          MPH    None   \n",
      "1               Lord Mayor    Hybrid           24804          MPH    None   \n",
      "2               Lord Mayor     Other               0          MPH    None   \n",
      "3              Leeds Watch    Diesel          159180          MPH    None   \n",
      "4     Assisted Living Leed         D               8          MPH    None   \n",
      "...                    ...       ...             ...          ...     ...   \n",
      "1160     Seacroft Highways    Petrol               0          MPH    None   \n",
      "1161        Pottery Fields    Petrol               0          MPH    None   \n",
      "1162               Henshaw    Petrol               0          MPH    None   \n",
      "1163        Pottery Fields    Petrol               0          MPH    None   \n",
      "1164               Henshaw    Petrol               0          MPH    None   \n",
      "\n",
      "                  Workshop  \n",
      "0     NOT Maintained byLCC  \n",
      "1     NOT Maintained byLCC  \n",
      "2     NOT Maintained byLCC  \n",
      "3       Transport Services  \n",
      "4       Transport Services  \n",
      "...                    ...  \n",
      "1160  NOT Maintained byLCC  \n",
      "1161  NOT Maintained byLCC  \n",
      "1162  NOT Maintained byLCC  \n",
      "1163  NOT Maintained byLCC  \n",
      "1164  NOT Maintained byLCC  \n",
      "\n",
      "[1165 rows x 19 columns]\n"
     ]
    }
   ],
   "source": [
    "print(data)"
   ]
  },
  {
   "cell_type": "code",
   "execution_count": 12,
   "metadata": {},
   "outputs": [
    {
     "data": {
      "text/plain": [
       "ExtractDate                 0\n",
       "OrganisationURI             0\n",
       "OrganisationLabel           0\n",
       "ServiceTypeURI              0\n",
       "ServiceTypeLabel            0\n",
       "Fleet number                0\n",
       "Vehicle Type                0\n",
       "Make                        1\n",
       "Model                       0\n",
       "Date of 1st Registration    0\n",
       "Estimated Disposal          0\n",
       "Description                 0\n",
       "Dept                        0\n",
       "Depot                       0\n",
       "Fuel Used                   0\n",
       "Total Distance              0\n",
       "Unit of Dist                0\n",
       "Cameras                     0\n",
       "Workshop                    0\n",
       "dtype: int64"
      ]
     },
     "execution_count": 12,
     "metadata": {},
     "output_type": "execute_result"
    }
   ],
   "source": [
    "data.isnull().sum()"
   ]
  },
  {
   "cell_type": "code",
   "execution_count": 13,
   "metadata": {
    "collapsed": true
   },
   "outputs": [
    {
     "data": {
      "text/plain": [
       "0         Jaguar\n",
       "1         Toyota\n",
       "2            NaN\n",
       "3           Ford\n",
       "4       Vauxhall\n",
       "          ...   \n",
       "1160      Yamaha\n",
       "1161      Yamaha\n",
       "1162      Yamaha\n",
       "1163      Yamaha\n",
       "1164      Yamaha\n",
       "Name: Make, Length: 1165, dtype: object"
      ]
     },
     "execution_count": 13,
     "metadata": {},
     "output_type": "execute_result"
    }
   ],
   "source": [
    "data['Make']"
   ]
  },
  {
   "cell_type": "code",
   "execution_count": null,
   "metadata": {},
   "outputs": [],
   "source": [
    "#getting null rows"
   ]
  },
  {
   "cell_type": "code",
   "execution_count": 14,
   "metadata": {},
   "outputs": [],
   "source": [
    "null=pd.isnull(data['Make'])"
   ]
  },
  {
   "cell_type": "code",
   "execution_count": 15,
   "metadata": {
    "scrolled": false
   },
   "outputs": [
    {
     "data": {
      "text/html": [
       "<div>\n",
       "<style scoped>\n",
       "    .dataframe tbody tr th:only-of-type {\n",
       "        vertical-align: middle;\n",
       "    }\n",
       "\n",
       "    .dataframe tbody tr th {\n",
       "        vertical-align: top;\n",
       "    }\n",
       "\n",
       "    .dataframe thead th {\n",
       "        text-align: right;\n",
       "    }\n",
       "</style>\n",
       "<table border=\"1\" class=\"dataframe\">\n",
       "  <thead>\n",
       "    <tr style=\"text-align: right;\">\n",
       "      <th></th>\n",
       "      <th>ExtractDate</th>\n",
       "      <th>OrganisationURI</th>\n",
       "      <th>OrganisationLabel</th>\n",
       "      <th>ServiceTypeURI</th>\n",
       "      <th>ServiceTypeLabel</th>\n",
       "      <th>Fleet number</th>\n",
       "      <th>Vehicle Type</th>\n",
       "      <th>Make</th>\n",
       "      <th>Model</th>\n",
       "      <th>Date of 1st Registration</th>\n",
       "      <th>Estimated Disposal</th>\n",
       "      <th>Description</th>\n",
       "      <th>Dept</th>\n",
       "      <th>Depot</th>\n",
       "      <th>Fuel Used</th>\n",
       "      <th>Total Distance</th>\n",
       "      <th>Unit of Dist</th>\n",
       "      <th>Cameras</th>\n",
       "      <th>Workshop</th>\n",
       "    </tr>\n",
       "  </thead>\n",
       "  <tbody>\n",
       "    <tr>\n",
       "      <th>2</th>\n",
       "      <td>13/07/2016</td>\n",
       "      <td>http://opendatacommunities.org/id/metropolitan...</td>\n",
       "      <td>Leeds</td>\n",
       "      <td>http://id.esd.org.uk/subject/7539</td>\n",
       "      <td>Fleet Management</td>\n",
       "      <td>3</td>\n",
       "      <td>Limousine</td>\n",
       "      <td>NaN</td>\n",
       "      <td>Plate Retention</td>\n",
       "      <td>11/4/2013</td>\n",
       "      <td>8/4/2017</td>\n",
       "      <td>Private Plate on retention til 08/04/2017</td>\n",
       "      <td>Lord Mayor</td>\n",
       "      <td>Lord Mayor</td>\n",
       "      <td>Other</td>\n",
       "      <td>0</td>\n",
       "      <td>MPH</td>\n",
       "      <td>None</td>\n",
       "      <td>NOT Maintained byLCC</td>\n",
       "    </tr>\n",
       "  </tbody>\n",
       "</table>\n",
       "</div>"
      ],
      "text/plain": [
       "  ExtractDate                                    OrganisationURI  \\\n",
       "2  13/07/2016  http://opendatacommunities.org/id/metropolitan...   \n",
       "\n",
       "  OrganisationLabel                     ServiceTypeURI  ServiceTypeLabel  \\\n",
       "2             Leeds  http://id.esd.org.uk/subject/7539  Fleet Management   \n",
       "\n",
       "   Fleet number Vehicle Type Make            Model Date of 1st Registration  \\\n",
       "2             3    Limousine  NaN  Plate Retention                11/4/2013   \n",
       "\n",
       "  Estimated Disposal                                Description        Dept  \\\n",
       "2           8/4/2017  Private Plate on retention til 08/04/2017  Lord Mayor   \n",
       "\n",
       "        Depot Fuel Used  Total Distance Unit of Dist Cameras  \\\n",
       "2  Lord Mayor     Other               0          MPH    None   \n",
       "\n",
       "               Workshop  \n",
       "2  NOT Maintained byLCC  "
      ]
     },
     "execution_count": 15,
     "metadata": {},
     "output_type": "execute_result"
    }
   ],
   "source": [
    "data[null]"
   ]
  },
  {
   "cell_type": "code",
   "execution_count": null,
   "metadata": {},
   "outputs": [],
   "source": [
    "#count of a data frame rows"
   ]
  },
  {
   "cell_type": "code",
   "execution_count": 40,
   "metadata": {},
   "outputs": [
    {
     "data": {
      "text/plain": [
       "1165"
      ]
     },
     "execution_count": 40,
     "metadata": {},
     "output_type": "execute_result"
    }
   ],
   "source": [
    "len(data.index)  #using index the finding the length of full data frame including null values"
   ]
  },
  {
   "cell_type": "code",
   "execution_count": 20,
   "metadata": {},
   "outputs": [
    {
     "data": {
      "text/plain": [
       "1165"
      ]
     },
     "execution_count": 20,
     "metadata": {},
     "output_type": "execute_result"
    }
   ],
   "source": [
    "len(data)"
   ]
  },
  {
   "cell_type": "code",
   "execution_count": 21,
   "metadata": {
    "scrolled": true
   },
   "outputs": [
    {
     "data": {
      "text/plain": [
       "1165"
      ]
     },
     "execution_count": 21,
     "metadata": {},
     "output_type": "execute_result"
    }
   ],
   "source": [
    "len(data['Make'])"
   ]
  },
  {
   "cell_type": "code",
   "execution_count": null,
   "metadata": {},
   "outputs": [],
   "source": [
    "#using axes[0,1]"
   ]
  },
  {
   "cell_type": "code",
   "execution_count": 46,
   "metadata": {},
   "outputs": [
    {
     "data": {
      "text/plain": [
       "RangeIndex(start=0, stop=1165, step=1)"
      ]
     },
     "execution_count": 46,
     "metadata": {},
     "output_type": "execute_result"
    }
   ],
   "source": [
    "data.axes[0] #print  number of rows using index"
   ]
  },
  {
   "cell_type": "code",
   "execution_count": 45,
   "metadata": {},
   "outputs": [
    {
     "data": {
      "text/plain": [
       "Index(['ExtractDate', 'OrganisationURI', 'OrganisationLabel', 'ServiceTypeURI',\n",
       "       'ServiceTypeLabel', 'Fleet number', 'Vehicle Type', 'Make', 'Model',\n",
       "       'Date of 1st Registration', 'Estimated Disposal', 'Description', 'Dept',\n",
       "       'Depot', 'Fuel Used', 'Total Distance', 'Unit of Dist', 'Cameras',\n",
       "       'Workshop'],\n",
       "      dtype='object')"
      ]
     },
     "execution_count": 45,
     "metadata": {},
     "output_type": "execute_result"
    }
   ],
   "source": [
    "data.axes[1]   # axes (index) prints the columns"
   ]
  },
  {
   "cell_type": "code",
   "execution_count": null,
   "metadata": {},
   "outputs": [],
   "source": [
    "#using shape()[0,1]"
   ]
  },
  {
   "cell_type": "code",
   "execution_count": 25,
   "metadata": {
    "scrolled": true
   },
   "outputs": [
    {
     "data": {
      "text/plain": [
       "1165"
      ]
     },
     "execution_count": 25,
     "metadata": {},
     "output_type": "execute_result"
    }
   ],
   "source": [
    "data.shape[0]  #shape count using 0,1"
   ]
  },
  {
   "cell_type": "code",
   "execution_count": 42,
   "metadata": {},
   "outputs": [
    {
     "data": {
      "text/plain": [
       "19"
      ]
     },
     "execution_count": 42,
     "metadata": {},
     "output_type": "execute_result"
    }
   ],
   "source": [
    "data.shape[1] #count the columns"
   ]
  },
  {
   "cell_type": "code",
   "execution_count": null,
   "metadata": {},
   "outputs": [],
   "source": [
    "#count"
   ]
  },
  {
   "cell_type": "code",
   "execution_count": 26,
   "metadata": {
    "scrolled": false
   },
   "outputs": [
    {
     "data": {
      "text/plain": [
       "1165"
      ]
     },
     "execution_count": 26,
     "metadata": {},
     "output_type": "execute_result"
    }
   ],
   "source": [
    "data[data.columns[0]].count()"
   ]
  },
  {
   "cell_type": "code",
   "execution_count": 52,
   "metadata": {},
   "outputs": [
    {
     "data": {
      "text/plain": [
       "1164"
      ]
     },
     "execution_count": 52,
     "metadata": {},
     "output_type": "execute_result"
    }
   ],
   "source": [
    "data['Make'].count()"
   ]
  },
  {
   "cell_type": "code",
   "execution_count": 69,
   "metadata": {
    "scrolled": true
   },
   "outputs": [
    {
     "data": {
      "text/plain": [
       "1164"
      ]
     },
     "execution_count": 69,
     "metadata": {},
     "output_type": "execute_result"
    }
   ],
   "source": [
    "data[data.columns[7]].count()"
   ]
  },
  {
   "cell_type": "code",
   "execution_count": 68,
   "metadata": {},
   "outputs": [
    {
     "name": "stdout",
     "output_type": "stream",
     "text": [
      "ExtractDate\n",
      "OrganisationURI\n",
      "OrganisationLabel\n"
     ]
    }
   ],
   "source": [
    "print(data.columns[0])# first column name\n",
    "print(data.columns[1])\n",
    "print(data.columns[2])"
   ]
  },
  {
   "cell_type": "code",
   "execution_count": null,
   "metadata": {},
   "outputs": [],
   "source": [
    "#count a column value"
   ]
  },
  {
   "cell_type": "code",
   "execution_count": 32,
   "metadata": {
    "scrolled": true
   },
   "outputs": [
    {
     "data": {
      "text/plain": [
       "1164"
      ]
     },
     "execution_count": 32,
     "metadata": {},
     "output_type": "execute_result"
    }
   ],
   "source": [
    "data['Make'].count() # without counting the null value"
   ]
  },
  {
   "cell_type": "code",
   "execution_count": 34,
   "metadata": {
    "scrolled": true
   },
   "outputs": [
    {
     "data": {
      "text/plain": [
       "Make     1164\n",
       "Model    1165\n",
       "dtype: int64"
      ]
     },
     "execution_count": 34,
     "metadata": {},
     "output_type": "execute_result"
    }
   ],
   "source": [
    "data[['Make','Model']].count()"
   ]
  },
  {
   "cell_type": "code",
   "execution_count": 38,
   "metadata": {},
   "outputs": [
    {
     "name": "stdout",
     "output_type": "stream",
     "text": [
      "ExtractDate                 1165\n",
      "OrganisationURI             1165\n",
      "OrganisationLabel           1165\n",
      "ServiceTypeURI              1165\n",
      "ServiceTypeLabel            1165\n",
      "Fleet number                1165\n",
      "Vehicle Type                1165\n",
      "Make                        1164\n",
      "Model                       1165\n",
      "Date of 1st Registration    1165\n",
      "Estimated Disposal          1165\n",
      "Description                 1165\n",
      "Dept                        1165\n",
      "Depot                       1165\n",
      "Fuel Used                   1165\n",
      "Total Distance              1165\n",
      "Unit of Dist                1165\n",
      "Cameras                     1165\n",
      "Workshop                    1165\n",
      "dtype: int64 ooooo 1165\n"
     ]
    }
   ],
   "source": [
    "print(data.count(),\"ooooo\",data.shape[0])"
   ]
  },
  {
   "cell_type": "code",
   "execution_count": null,
   "metadata": {},
   "outputs": [],
   "source": [
    "#count values in a column"
   ]
  },
  {
   "cell_type": "code",
   "execution_count": 31,
   "metadata": {},
   "outputs": [
    {
     "data": {
      "text/plain": [
       "1"
      ]
     },
     "execution_count": 31,
     "metadata": {},
     "output_type": "execute_result"
    }
   ],
   "source": [
    "data.columns[1].count('OrganisationURI')"
   ]
  },
  {
   "cell_type": "code",
   "execution_count": 64,
   "metadata": {},
   "outputs": [
    {
     "data": {
      "text/plain": [
       "5"
      ]
     },
     "execution_count": 64,
     "metadata": {},
     "output_type": "execute_result"
    }
   ],
   "source": [
    "data['ExtractDate'][data['Make']=='Yamaha'].count()"
   ]
  },
  {
   "cell_type": "code",
   "execution_count": null,
   "metadata": {},
   "outputs": [],
   "source": [
    "#iloc"
   ]
  },
  {
   "cell_type": "code",
   "execution_count": 77,
   "metadata": {
    "collapsed": true
   },
   "outputs": [
    {
     "data": {
      "text/plain": [
       "ExtractDate                                                        13/07/2016\n",
       "OrganisationURI             http://opendatacommunities.org/id/metropolitan...\n",
       "OrganisationLabel                                                       Leeds\n",
       "ServiceTypeURI                              http://id.esd.org.uk/subject/7539\n",
       "ServiceTypeLabel                                             Fleet Management\n",
       "Fleet number                                                                3\n",
       "Vehicle Type                                                        Limousine\n",
       "Make                                                                      NaN\n",
       "Model                                                         Plate Retention\n",
       "Date of 1st Registration                                            11/4/2013\n",
       "Estimated Disposal                                                   8/4/2017\n",
       "Description                         Private Plate on retention til 08/04/2017\n",
       "Dept                                                               Lord Mayor\n",
       "Depot                                                              Lord Mayor\n",
       "Fuel Used                                                               Other\n",
       "Total Distance                                                              0\n",
       "Unit of Dist                                                              MPH\n",
       "Cameras                                                                  None\n",
       "Workshop                                                 NOT Maintained byLCC\n",
       "Name: 2, dtype: object"
      ]
     },
     "execution_count": 77,
     "metadata": {},
     "output_type": "execute_result"
    }
   ],
   "source": [
    "data.iloc[2] # second row with columns names"
   ]
  },
  {
   "cell_type": "code",
   "execution_count": 78,
   "metadata": {
    "scrolled": true
   },
   "outputs": [
    {
     "data": {
      "text/plain": [
       "ExtractDate                                                        13/07/2016\n",
       "OrganisationURI             http://opendatacommunities.org/id/metropolitan...\n",
       "OrganisationLabel                                                       Leeds\n",
       "ServiceTypeURI                              http://id.esd.org.uk/subject/7539\n",
       "ServiceTypeLabel                                             Fleet Management\n",
       "Fleet number                                                               11\n",
       "Vehicle Type                                                              Car\n",
       "Make                                                                     Ford\n",
       "Model                                                              Focus Edge\n",
       "Date of 1st Registration                                           24/01/2014\n",
       "Estimated Disposal                                                 23/01/2017\n",
       "Description                                            Ford Focus Edge 5 Door\n",
       "Dept                                                              Leeds Watch\n",
       "Depot                                                             Leeds Watch\n",
       "Fuel Used                                                              Diesel\n",
       "Total Distance                                                         159180\n",
       "Unit of Dist                                                              MPH\n",
       "Cameras                                                                  None\n",
       "Workshop                                                   Transport Services\n",
       "Name: 3, dtype: object"
      ]
     },
     "execution_count": 78,
     "metadata": {},
     "output_type": "execute_result"
    }
   ],
   "source": [
    "data.iloc[3]# third row with columns names"
   ]
  },
  {
   "cell_type": "code",
   "execution_count": 88,
   "metadata": {},
   "outputs": [
    {
     "data": {
      "text/plain": [
       "'http://opendatacommunities.org/id/metropolitan-district-council/leeds'"
      ]
     },
     "execution_count": 88,
     "metadata": {},
     "output_type": "execute_result"
    }
   ],
   "source": [
    "data.loc[0][1] # 0 for row number 1 for column number"
   ]
  },
  {
   "cell_type": "code",
   "execution_count": 95,
   "metadata": {},
   "outputs": [
    {
     "data": {
      "text/plain": [
       "'Jaguar'"
      ]
     },
     "execution_count": 95,
     "metadata": {},
     "output_type": "execute_result"
    }
   ],
   "source": [
    "data.loc[0][7]"
   ]
  },
  {
   "cell_type": "code",
   "execution_count": 98,
   "metadata": {},
   "outputs": [
    {
     "data": {
      "text/plain": [
       "'Jaguar'"
      ]
     },
     "execution_count": 98,
     "metadata": {},
     "output_type": "execute_result"
    }
   ],
   "source": [
    "data.iloc[0][7] # both loc and iloc will give same"
   ]
  },
  {
   "cell_type": "code",
   "execution_count": null,
   "metadata": {},
   "outputs": [],
   "source": [
    "#column index by name"
   ]
  },
  {
   "cell_type": "code",
   "execution_count": 101,
   "metadata": {},
   "outputs": [
    {
     "data": {
      "text/plain": [
       "7"
      ]
     },
     "execution_count": 101,
     "metadata": {},
     "output_type": "execute_result"
    }
   ],
   "source": [
    "data.columns.get_loc('Make')"
   ]
  },
  {
   "cell_type": "code",
   "execution_count": 4,
   "metadata": {},
   "outputs": [
    {
     "data": {
      "text/plain": [
       "RangeIndex(start=0, stop=1165, step=1)"
      ]
     },
     "execution_count": 4,
     "metadata": {},
     "output_type": "execute_result"
    }
   ],
   "source": [
    "data['Make'].index"
   ]
  }
 ],
 "metadata": {
  "kernelspec": {
   "display_name": "Python 3",
   "language": "python",
   "name": "python3"
  },
  "language_info": {
   "codemirror_mode": {
    "name": "ipython",
    "version": 3
   },
   "file_extension": ".py",
   "mimetype": "text/x-python",
   "name": "python",
   "nbconvert_exporter": "python",
   "pygments_lexer": "ipython3",
   "version": "3.8.5"
  }
 },
 "nbformat": 4,
 "nbformat_minor": 4
}
